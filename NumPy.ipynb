{
 "cells": [
  {
   "cell_type": "markdown",
   "metadata": {},
   "source": [
    "This file contains basic use-methods of NumPy module I summarized from courses and some online sources.\n",
    "\n",
    "[python numpy tutorial](http://cs231n.github.io/python-numpy-tutorial/#numpy)"
   ]
  },
  {
   "cell_type": "markdown",
   "metadata": {},
   "source": [
    "# NumPy\n",
    "NumPy is the core library for scientific computing in Python.\n",
    "\n",
    "NumPy’s main object is the homogeneous multidimensional **array**. It is a table of elements, all of the same type, indexed by a tuple of nonnegative integers. In NumPy dimensions are called axes."
   ]
  },
  {
   "cell_type": "markdown",
   "metadata": {},
   "source": [
    "## 1. Array initialization"
   ]
  },
  {
   "cell_type": "code",
   "execution_count": 56,
   "metadata": {},
   "outputs": [
    {
     "name": "stdout",
     "output_type": "stream",
     "text": [
      "vector\n",
      " [10 20 30]\n",
      "\n",
      "matrix\n",
      " [[ 5 10 15]\n",
      " [20 25 30]\n",
      " [35 40 45]]\n",
      "\n",
      "zeros\n",
      " [[ 0.  0.]\n",
      " [ 0.  0.]]\n",
      "\n",
      "ones\n",
      " [[ 1.  1.]]\n",
      "\n",
      "full\n",
      " [[7 7]\n",
      " [7 7]]\n",
      "\n",
      "eye\n",
      " [[ 1.  0.]\n",
      " [ 0.  1.]]\n",
      "\n",
      "random\n",
      " [[ 0.33788885  0.08855071]\n",
      " [ 0.51118744  0.90291024]]\n"
     ]
    }
   ],
   "source": [
    "import numpy as np\n",
    "\n",
    "# create by myself\n",
    "vector = np.array([10, 20, 30], int)\n",
    "print('vector\\n', vector)\n",
    "matrix = np.array([[5, 10, 15], [20, 25, 30], [35, 40, 45]],int)\n",
    "print('\\nmatrix\\n', matrix)\n",
    "\n",
    "# create certain type array\n",
    "zeros = np.zeros((2, 2))\n",
    "print('\\nzeros\\n', zeros)\n",
    "ones = np.ones((1, 2))\n",
    "print('\\nones\\n', ones)\n",
    "full = np.full((2, 2), 7)\n",
    "print('\\nfull\\n', full)\n",
    "eye = np.eye(2)\n",
    "print('\\neye\\n', eye)\n",
    "random = np.random.random((2, 2))\n",
    "print('\\nrandom\\n', random)\n",
    "\n",
    "# create from other sources\n",
    "#array = np.genfromtxt('file_name.csv', dtype = 'U75', skip_header = 1, delimiter = ',')"
   ]
  },
  {
   "cell_type": "markdown",
   "metadata": {},
   "source": [
    "## 2. Useful attributes for array object"
   ]
  },
  {
   "cell_type": "code",
   "execution_count": 52,
   "metadata": {},
   "outputs": [
    {
     "name": "stdout",
     "output_type": "stream",
     "text": [
      "vector_shape\n",
      " (3,)\n",
      "\n",
      "matrix_shape\n",
      " (3, 3)\n",
      "\n",
      "data_type\n",
      " int64\n",
      "\n",
      "float_vector\n",
      " [ 10.  20.  30.]\n",
      "\n",
      "vector_sum\n",
      " 60\n",
      "\n",
      "matrix_sum\n",
      " [10 45 75]\n"
     ]
    }
   ],
   "source": [
    "# the shape of the array\n",
    "vector_shape = vector.shape\n",
    "print('vector_shape\\n', vector_shape)\n",
    "matrix_shape = matrix.shape\n",
    "print('\\nmatrix_shape\\n', matrix_shape)\n",
    "\n",
    "# the data type of the array\n",
    "data_type = vector.dtype\n",
    "print('\\ndata_type\\n', data_type)\n",
    "\n",
    "# change the date type of the array\n",
    "float_vector = vector.astype(float)\n",
    "print('\\nfloat_vector\\n', float_vector)\n",
    "\n",
    "# the sum of the array\n",
    "# same: sum(), mean(), max(), std()\n",
    "vector_sum = vector.sum()\n",
    "print('\\nvector_sum\\n', vector_sum)\n",
    "matrix_sum = matrix.sum(axis=1)  # sum on each row\n",
    "print('\\nmatrix_sum\\n', matrix_sum)"
   ]
  },
  {
   "cell_type": "markdown",
   "metadata": {},
   "source": [
    "## 3. Array indexing and slicing"
   ]
  },
  {
   "cell_type": "code",
   "execution_count": 46,
   "metadata": {},
   "outputs": [
    {
     "name": "stdout",
     "output_type": "stream",
     "text": [
      "vector\n",
      "\n",
      "10\n",
      "[10 20]\n",
      "\n",
      "matrix\n",
      "\n",
      "[ 0 10  0]\n",
      "[[ 0 10  0]\n",
      " [20 25  0]]\n",
      "10\n",
      "[[ 0 10]\n",
      " [20 25]]\n",
      "[[ 0 10  0]\n",
      " [20 25  0]]\n",
      "\n",
      "use boolean\n",
      "\n",
      "[20 30]\n",
      "[20 25 35 40]\n",
      "[[20 25  0]\n",
      " [35 40  0]]\n",
      "[[20 25]\n",
      " [35 40]]\n",
      "[]\n",
      "[[20 25  0]]\n",
      "\n",
      "array replace\n",
      "\n",
      "[[1 2 0]\n",
      " [4 5 0]\n",
      " [7 8 0]]\n"
     ]
    }
   ],
   "source": [
    "# vector\n",
    "print('vector\\n')\n",
    "print(vector[0])\n",
    "print(vector[:2])\n",
    "\n",
    "# matrix\n",
    "print('\\nmatrix\\n')\n",
    "print(matrix[0])\n",
    "print(matrix[:2])\n",
    "print(matrix[0, 1])\n",
    "print(matrix[:2, :2])\n",
    "print(matrix[:2, :])\n",
    "\n",
    "# use boolean\n",
    "print('\\nuse boolean\\n')\n",
    "print(vector[vector > 10])\n",
    "print(matrix[matrix > 10])\n",
    "print(matrix[matrix[:, 1] > 10])\n",
    "print(matrix[matrix[:, 1] > 10, :2])\n",
    "print(matrix[(matrix[:, 0] == 5) & (matrix[:, 1] == 10)])\n",
    "print(matrix[(matrix[:, 0] == 5) | (matrix[:, 1] == 25)])\n",
    "\n",
    "# array replace\n",
    "print('\\narray replace\\n')\n",
    "matrix_1 = np.array([[1, 2, 3], [4, 5, 6], [7, 8, 9]])\n",
    "matrix_1[:, 2] = 0\n",
    "print(matrix_1)"
   ]
  },
  {
   "cell_type": "markdown",
   "metadata": {},
   "source": [
    "## 4. Array math"
   ]
  },
  {
   "cell_type": "code",
   "execution_count": 51,
   "metadata": {},
   "outputs": [
    {
     "name": "stdout",
     "output_type": "stream",
     "text": [
      "sum\n",
      "\n",
      "[[ 6  8]\n",
      " [10 12]]\n",
      "\n",
      "difference\n",
      "\n",
      "[[-4 -4]\n",
      " [-4 -4]]\n",
      "\n",
      "product\n",
      "\n",
      "[[ 5 12]\n",
      " [21 32]]\n",
      "\n",
      "division\n",
      "\n",
      "[[ 0.2         0.33333333]\n",
      " [ 0.42857143  0.5       ]]\n",
      "\n",
      "square root\n",
      "\n",
      "[[ 1.          1.41421356]\n",
      " [ 1.73205081  2.        ]]\n",
      "\n",
      "inner product of vectors\n",
      "\n",
      "219\n",
      "\n",
      "matrix vector product\n",
      "\n",
      "[29 67]\n",
      "\n",
      "matrix matrix product\n",
      "\n",
      "[[19 22]\n",
      " [43 50]]\n"
     ]
    }
   ],
   "source": [
    "x = np.array([[1, 2], [3, 4]])\n",
    "y = np.array([[5, 6], [7, 8]])\n",
    "\n",
    "v = np.array([9, 10])\n",
    "w = np.array([11, 12])\n",
    "\n",
    "# elementwise sum\n",
    "print('sum\\n')\n",
    "print(x + y)\n",
    "#print(np.add(x, y))\n",
    "\n",
    "# elementwise difference\n",
    "print('\\ndifference\\n')\n",
    "print(x - y)\n",
    "#print(np.subtract(x, y))\n",
    "\n",
    "# elementwise product\n",
    "print('\\nproduct\\n')\n",
    "print(x * y)\n",
    "#print(np.multiply(x, y))\n",
    "\n",
    "# elementwise division\n",
    "print('\\ndivision\\n')\n",
    "print(x / y)\n",
    "#print(np.divide(x, y))\n",
    "\n",
    "# elementwise square root\n",
    "print('\\nsquare root\\n')\n",
    "print(np.sqrt(x))\n",
    "\n",
    "\n",
    "# inner product of vectors\n",
    "print('\\ninner product of vectors\\n')\n",
    "# print(v.dot(w))\n",
    "print(np.dot(v, w))\n",
    "\n",
    "# matrix vector product\n",
    "print('\\nmatrix vector product\\n')\n",
    "# print(x.dot(v))\n",
    "print(np.dot(x, v))\n",
    "\n",
    "# matrix matrix product\n",
    "print('\\nmatrix matrix product\\n')\n",
    "# print(x.dot(y))\n",
    "print(np.dot(x, y))"
   ]
  },
  {
   "cell_type": "code",
   "execution_count": null,
   "metadata": {
    "collapsed": true
   },
   "outputs": [],
   "source": []
  }
 ],
 "metadata": {
  "kernelspec": {
   "display_name": "Python 3",
   "language": "python",
   "name": "python3"
  },
  "language_info": {
   "codemirror_mode": {
    "name": "ipython",
    "version": 3
   },
   "file_extension": ".py",
   "mimetype": "text/x-python",
   "name": "python",
   "nbconvert_exporter": "python",
   "pygments_lexer": "ipython3",
   "version": "3.6.1"
  }
 },
 "nbformat": 4,
 "nbformat_minor": 2
}
