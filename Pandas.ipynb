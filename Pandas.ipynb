{
 "cells": [
  {
   "cell_type": "markdown",
   "metadata": {},
   "source": [
    "This file contains basic use-methods of Pandas module I summarized from courses and some online sources.\n",
    "\n",
    "[dataquest](https://www.dataquest.io)"
   ]
  },
  {
   "cell_type": "markdown",
   "metadata": {},
   "source": [
    "# Pandas\n",
    "Pandas is a library that unifies the most common workflows that data analysts and data scientists previously relied on many different libraries for. \n",
    "\n",
    "To represent tabular data, pandas uses a custom 2-dimensional data structure called a **dataframe** (collections of Series objects).\n",
    "\n",
    "The **series** (collections of values) object is a core data structure that pandas uses to represent rows and columns.\n",
    "\n",
    "- Pandas could store mixed data types in rows and columns.\n",
    "\n",
    "- Pandas dataframes can handle missing values using a custom object, NaN, to represent those values.\n",
    "\n",
    "- Pandas dataframes contain axis labels for both rows and columns and enable you to refer to elements in the dataframe more intuitively."
   ]
  },
  {
   "cell_type": "markdown",
   "metadata": {},
   "source": [
    "## 1. Series and dataframe initialization"
   ]
  },
  {
   "cell_type": "code",
   "execution_count": 114,
   "metadata": {},
   "outputs": [
    {
     "name": "stdout",
     "output_type": "stream",
     "text": [
      "\n",
      "create series\n",
      " a    1\n",
      "b    3\n",
      "c    5\n",
      "dtype: int64\n",
      "\n",
      "create dataframe\n",
      "    one  two  three\n",
      "a    1    2      3\n",
      "b    4    5      6\n",
      "c    7    8      9\n",
      "\n",
      "create dataframe2\n",
      "         one       two     three\n",
      "a -0.153552  1.562383 -0.533992\n",
      "b  0.416615 -0.294909 -0.007498\n",
      "c  0.570763 -0.943341 -0.230215\n"
     ]
    }
   ],
   "source": [
    "import pandas as pd\n",
    "import numpy as np\n",
    "\n",
    "# create by myself\n",
    "series = pd.Series(data=[1, 3, 5], index=['a', 'b', 'c'])\n",
    "print('\\ncreate series\\n', series)\n",
    "dataframe = pd.DataFrame(data=[[1, 2, 3], [4, 5, 6], [7, 8, 9]], index=[\n",
    "                         'a', 'b', 'c'], columns=['one', 'two', 'three'])\n",
    "print('\\ncreate dataframe\\n', dataframe)\n",
    "dataframe2 = pd.DataFrame(data=np.random.normal(size=(3, 3)), index=[\n",
    "                          'a', 'b', 'c'], columns=['one', 'two', 'three'])\n",
    "print('\\ncreate dataframe2\\n', dataframe2)\n",
    "\n",
    "# create from other sources\n",
    "# pd_html = pd.read_html(url, header = 0, index_col = 'Currency')\n",
    "# pd_csv = pd.read_csv('file_name.csv')"
   ]
  },
  {
   "cell_type": "markdown",
   "metadata": {},
   "source": [
    "## 2. Useful attributes for series and dataframe object"
   ]
  },
  {
   "cell_type": "code",
   "execution_count": 115,
   "metadata": {},
   "outputs": [
    {
     "name": "stdout",
     "output_type": "stream",
     "text": [
      "\n",
      "dataframe_head\n",
      "    one  two  three\n",
      "a    1    2      3\n",
      "b    4    5      6\n",
      "\n",
      "dataframe_columns\n",
      " ['one', 'two', 'three']\n",
      "\n",
      "dataframe_rows\n",
      " ['a', 'b', 'c']\n",
      "\n",
      "dataframe_type\n",
      " one      int64\n",
      "two      int64\n",
      "three    int64\n",
      "dtype: object\n",
      "\n",
      "dataframe_shape\n",
      " (3, 3)\n",
      "\n",
      "dataframe_row_num\n",
      " 3\n",
      "\n",
      "dataframe_column_num\n",
      " 3\n",
      "\n",
      "series_max\n",
      " 5\n",
      "\n",
      "series_mean\n",
      " 3.0\n",
      "\n",
      "series_std\n",
      " 2.0\n",
      "\n",
      "series_sort\n",
      " c    5\n",
      "b    3\n",
      "a    1\n",
      "dtype: int64\n",
      "\n",
      "dataframe_sort\n",
      "    one  two  three\n",
      "c    7    8      9\n",
      "b    4    5      6\n",
      "a    1    2      3\n"
     ]
    }
   ],
   "source": [
    "print('\\ndataframe_head\\n', dataframe.head(2))\n",
    "\n",
    "print('\\ndataframe_columns\\n', list(dataframe.columns))\n",
    "print('\\ndataframe_rows\\n', list(dataframe.index))\n",
    "print('\\ndataframe_type\\n', dataframe.dtypes)\n",
    "\n",
    "print('\\ndataframe_shape\\n', dataframe.shape)\n",
    "print('\\ndataframe_row_num\\n', dataframe.shape[0])\n",
    "print('\\ndataframe_column_num\\n', dataframe.shape[1])\n",
    "\n",
    "print('\\nseries_max\\n', series.max())\n",
    "print('\\nseries_mean\\n', series.mean())\n",
    "print('\\nseries_std\\n', series.std())\n",
    "print('\\nseries_sort\\n', series.sort_values(ascending=False))\n",
    "\n",
    "print('\\ndataframe_sort\\n', dataframe.sort_values(\n",
    "    'one', inplace=False, ascending=False))"
   ]
  },
  {
   "cell_type": "markdown",
   "metadata": {},
   "source": [
    "## 3. Series and dataframe indexing and slicing"
   ]
  },
  {
   "cell_type": "code",
   "execution_count": 128,
   "metadata": {},
   "outputs": [
    {
     "name": "stdout",
     "output_type": "stream",
     "text": [
      "\n",
      "select_column\n",
      " a    1\n",
      "b    4\n",
      "c    7\n",
      "Name: one, dtype: int64\n",
      "\n",
      "select_columns\n",
      "    one  two\n",
      "a    1    2\n",
      "b    4    5\n",
      "c    7    8\n",
      "\n",
      "select_row\n",
      " one      1\n",
      "two      2\n",
      "three    3\n",
      "Name: a, dtype: int64\n",
      "\n",
      "select_row2\n",
      " one      1\n",
      "two      2\n",
      "three    3\n",
      "Name: a, dtype: int64\n",
      "\n",
      "select_rows\n",
      "    one  two  three\n",
      "a    1    2      3\n",
      "b    4    5      6\n",
      "\n",
      "select_rows2\n",
      "    one  two  three\n",
      "a    1    2      3\n",
      "b    4    5      6\n",
      "\n",
      "select_rows3\n",
      "    one  two  three\n",
      "a    1    2      3\n",
      "b    4    5      6\n",
      "c    7    8      9\n",
      "\n",
      "select_element\n",
      " 1\n",
      "\n",
      "select_element2\n",
      " 1\n",
      "\n",
      "select_element3\n",
      " 1\n",
      "\n",
      "select_elements\n",
      "    one  two\n",
      "a    1    2\n",
      "b    4    5\n",
      "\n",
      "select_elements2\n",
      "    one  two\n",
      "a    1    2\n",
      "b    4    5\n",
      "\n",
      "select_rows_boolean\n",
      "    one  two  three\n",
      "a    1    2      3\n"
     ]
    }
   ],
   "source": [
    "# select colums\n",
    "print('\\nselect_column\\n', dataframe['one'])  # the result is series\n",
    "print('\\nselect_columns\\n', dataframe[['one', 'two']])\n",
    "\n",
    "# select rows\n",
    "print('\\nselect_row\\n', dataframe.loc['a'])  # the result is series\n",
    "print('\\nselect_row2\\n', dataframe.iloc[0])\n",
    "print('\\nselect_rows\\n', dataframe.loc[['a', 'b']])\n",
    "print('\\nselect_rows2\\n', dataframe.loc['a':'b'])\n",
    "print('\\nselect_rows3\\n', dataframe.iloc[0:3])\n",
    "\n",
    "# select elements\n",
    "print('\\nselect_element\\n', dataframe['one']['a'])\n",
    "print('\\nselect_element2\\n', dataframe.loc['a', 'one'])\n",
    "print('\\nselect_element3\\n', dataframe.iloc[0, 0])\n",
    "print('\\nselect_elements\\n', dataframe.loc[['a', 'b']][['one', 'two']])\n",
    "print('\\nselect_elements2\\n', dataframe.iloc[:2, :2])\n",
    "\n",
    "# use boolean\n",
    "print('\\nselect_rows_boolean\\n', dataframe[dataframe['one'] == 1])"
   ]
  },
  {
   "cell_type": "markdown",
   "metadata": {},
   "source": [
    "## 4.  Series and dataframe manipulation"
   ]
  },
  {
   "cell_type": "code",
   "execution_count": 119,
   "metadata": {},
   "outputs": [
    {
     "name": "stdout",
     "output_type": "stream",
     "text": [
      "calculation\n",
      "\n",
      "a    12\n",
      "b    15\n",
      "c    18\n",
      "Name: two, dtype: int64\n",
      "a     3\n",
      "b     9\n",
      "c    15\n",
      "dtype: int64\n",
      "one      5\n",
      "two      7\n",
      "three    9\n",
      "dtype: int64\n",
      "\n",
      "add_column\n",
      "         one       two     three      four\n",
      "a -0.153552  1.562383 -0.533992  1.408831\n",
      "b  0.416615 -0.294909 -0.007498  0.121706\n",
      "c  0.570763 -0.943341 -0.230215 -0.372578\n",
      "\n",
      "add_row\n",
      "         one       two     three      four\n",
      "a -0.153552  1.562383 -0.533992  1.408831\n",
      "b  0.416615 -0.294909 -0.007498  0.121706\n",
      "c  0.570763 -0.943341 -0.230215 -0.372578\n",
      "d  0.263063  1.267474 -0.541490  1.530537\n",
      "\n",
      "replace_column\n",
      "         one       two     three      four\n",
      "a -0.153552  1.562383 -0.533992 -0.153552\n",
      "b  0.416615 -0.294909 -0.007498  0.416615\n",
      "c  0.570763 -0.943341 -0.230215  0.570763\n",
      "d  0.263063  1.267474 -0.541490  0.263063\n"
     ]
    }
   ],
   "source": [
    "# calculation for columns or rows\n",
    "# same for substract, multiply, divide\n",
    "print('calculation\\n')\n",
    "add = dataframe['two'] + 10\n",
    "print(add)\n",
    "add2 = dataframe['one'] + dataframe['two']\n",
    "print(add2)\n",
    "add3 = dataframe.loc['a'] + dataframe.loc['b']\n",
    "print(add3)\n",
    "\n",
    "# add more columns or rows\n",
    "dataframe2['four'] = dataframe2['one'] + dataframe2['two']\n",
    "print('\\nadd_column\\n', dataframe2)\n",
    "dataframe2.loc['d'] = dataframe2.loc['a'] + dataframe2.loc['b']\n",
    "print('\\nadd_row\\n', dataframe2)\n",
    "\n",
    "# replace the column\n",
    "dataframe2['four'] = dataframe2['one']\n",
    "print('\\nreplace_column\\n', dataframe2)"
   ]
  },
  {
   "cell_type": "code",
   "execution_count": null,
   "metadata": {
    "collapsed": true
   },
   "outputs": [],
   "source": []
  }
 ],
 "metadata": {
  "kernelspec": {
   "display_name": "Python 3",
   "language": "python",
   "name": "python3"
  },
  "language_info": {
   "codemirror_mode": {
    "name": "ipython",
    "version": 3
   },
   "file_extension": ".py",
   "mimetype": "text/x-python",
   "name": "python",
   "nbconvert_exporter": "python",
   "pygments_lexer": "ipython3",
   "version": "3.6.1"
  }
 },
 "nbformat": 4,
 "nbformat_minor": 2
}
